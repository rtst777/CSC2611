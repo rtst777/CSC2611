{
 "cells": [
  {
   "cell_type": "markdown",
   "metadata": {},
   "source": [
    "# 1 Synchronic word embedding"
   ]
  },
  {
   "cell_type": "code",
   "execution_count": 1,
   "metadata": {},
   "outputs": [],
   "source": [
    "import os\n",
    "import json\n",
    "import nltk\n",
    "import math\n",
    "import numpy as np\n",
    "import warnings\n",
    "warnings.filterwarnings('ignore')\n",
    "from nltk.corpus import brown\n",
    "from nltk.corpus import words\n",
    "from sklearn.decomposition import PCA\n",
    "from sklearn.metrics.pairwise import cosine_similarity\n",
    "from scipy.stats import pearsonr\n",
    "from scipy.spatial.distance import cosine\n",
    "from gensim.models import KeyedVectors\n",
    "from gensim.models import keyedvectors"
   ]
  },
  {
   "cell_type": "markdown",
   "metadata": {},
   "source": [
    "## Step 2"
   ]
  },
  {
   "cell_type": "code",
   "execution_count": 2,
   "metadata": {},
   "outputs": [],
   "source": [
    "RG65 = {\n",
    "    \"asylum\", \"gem\", \"autograph\", \"glass\", \"boy\", \"graveyard\", \"brother\", \"grin\", \"car\", \"mound\", \"coast\", \"noon\", \"cock\",\n",
    "    \"oracle\", \"cord\", \"slave\", \"crane\", \"tool\", \"cushion\", \"voyage\", \"food\", \"wizard\", \"furnace\", \"woodland\", \"automobile\", \"midday\",\n",
    "    \"bird\", \"monk\", \"cemetery\", \"pillow\", \"forest\", \"rooster\", \"fruit\", \"sage\", \"hill\", \"serf\", \"implement\", \"shore\",\n",
    "    \"jewel\", \"signature\", \"journey\", \"smile\", \"lad\", \"stove\", \"madhouse\", \"string\", \"magician\", \"tumbler\",\n",
    "}"
   ]
  },
  {
   "cell_type": "code",
   "execution_count": 3,
   "metadata": {},
   "outputs": [],
   "source": [
    "word2vec_model = KeyedVectors.load_word2vec_format('GoogleNews-vectors-negative300.bin', binary=True)\n",
    "# print(word2vec_model['dog'])\n",
    "rg65_word2vec = {word:word2vec_model[word] for word in RG65}"
   ]
  },
  {
   "cell_type": "markdown",
   "metadata": {},
   "source": [
    "## Step 3"
   ]
  },
  {
   "cell_type": "code",
   "execution_count": 4,
   "metadata": {},
   "outputs": [],
   "source": [
    "TABLE1 = [['cord', 'smile', 0.02],\n",
    "          ['rooster', 'voyage', 0.04],\n",
    "          ['noon', 'string', 0.04],\n",
    "          ['fruit', 'furnace', 0.05],\n",
    "          ['autograph', 'shore', 0.06],\n",
    "          ['automobile', 'wizard', 0.11],\n",
    "          ['mound', 'stove', 0.14],\n",
    "          ['grin', 'implement', 0.18],\n",
    "          ['asylum', 'fruit', 0.19],\n",
    "          ['asylum', 'monk', 0.39],\n",
    "          ['graveyard', 'madhouse', 0.42],\n",
    "          ['glass', 'magician', 0.44],\n",
    "          ['boy', 'rooster', 0.44],\n",
    "          ['cushion', 'jewel', 0.45],\n",
    "          ['monk', 'slave', 0.57],\n",
    "          ['asylum', 'cemetery', 0.79],\n",
    "          ['coast', 'forest', 0.85],\n",
    "          ['grin', 'lad', 0.88],\n",
    "          ['shore', 'woodland', 0.90],\n",
    "          ['monk', 'oracle', 0.91],\n",
    "          ['boy', 'sage', 0.96],\n",
    "          ['automobile', 'cushion', 0.97],\n",
    "          ['mound', 'shore', 0.97],\n",
    "          ['lad', 'wizard', 0.99],\n",
    "          ['forest', 'graveyard', 1.00],\n",
    "          ['food', 'rooster', 1.09],\n",
    "          ['cemetery', 'woodland', 1.18],\n",
    "          ['shore', 'voyage', 1.22],\n",
    "          ['bird', 'woodland', 1.24],\n",
    "          ['coast', 'hill', 1.26],\n",
    "          ['furnace', 'implement', 1.37],\n",
    "          ['crane', 'rooster', 1.41],\n",
    "          ['hill', 'woodland', 1.48],\n",
    "          ['car', 'journey', 1.55],\n",
    "          ['cemetery', 'mound', 1.69],\n",
    "          ['glass', 'jewel', 1.78],\n",
    "          ['magician', 'oracle', 1.82],\n",
    "          ['crane', 'implement', 2.37],\n",
    "          ['brother', 'lad', 2.41],\n",
    "          ['sage', 'wizard', 2.46],\n",
    "          ['oracle', 'sage', 2.61],\n",
    "          ['bird', 'crane', 2.63],\n",
    "          ['bird', 'cock', 2.63],\n",
    "          ['food', 'fruit', 2.69],\n",
    "          ['brother', 'monk', 2.74],\n",
    "          ['asylum', 'madhouse', 3.04],\n",
    "          ['furnace', 'stove', 3.11],\n",
    "          ['magician', 'wizard', 3.21],\n",
    "          ['hill', 'mound', 3.29],\n",
    "          ['cord', 'string', 3.41],\n",
    "          ['glass', 'tumbler', 3.45],\n",
    "          ['grin', 'smile', 3.46],\n",
    "          ['serf', 'slave', 3.46],\n",
    "          ['journey', 'voyage', 3.58],\n",
    "          ['autograph', 'signature', 3.59],\n",
    "          ['coast', 'shore', 3.60],\n",
    "          ['forest', 'woodland', 3.65],\n",
    "          ['implement', 'tool', 3.66],\n",
    "          ['cock', 'rooster', 3.68],\n",
    "          ['boy', 'lad', 3.82],\n",
    "          ['cushion', 'pillow', 3.84],\n",
    "          ['cemetery', 'graveyard', 3.88],\n",
    "          ['automobile', 'car', 3.92],\n",
    "          ['midday', 'noon', 3.94],\n",
    "          ['gem', 'jewel', 3.94]]"
   ]
  },
  {
   "cell_type": "code",
   "execution_count": 5,
   "metadata": {},
   "outputs": [],
   "source": [
    "def get_scores(rg65_word2vec):\n",
    "    human_score = np.empty(len(TABLE1))\n",
    "    word2vec_cosine_sim_score = np.empty(len(TABLE1))\n",
    "    word2vec_cosine_distance_score = np.empty(len(TABLE1))\n",
    "        \n",
    "    for i, entry in enumerate(TABLE1):\n",
    "        word1 = entry[0]\n",
    "        word2 = entry[1]\n",
    "        word1_embedding = rg65_word2vec[word1]\n",
    "        word2_embedding = rg65_word2vec[word2]\n",
    "\n",
    "        word2vec_cosine_sim_score[i] = cosine_similarity(word1_embedding.reshape(1, -1), word2_embedding.reshape(1, -1))[0][0]\n",
    "        word2vec_cosine_distance_score[i] = cosine(word1_embedding, word2_embedding)\n",
    "        human_score[i] = entry[2]\n",
    "    \n",
    "    return human_score, word2vec_cosine_sim_score, word2vec_cosine_distance_score\n"
   ]
  },
  {
   "cell_type": "code",
   "execution_count": 6,
   "metadata": {},
   "outputs": [
    {
     "name": "stdout",
     "output_type": "stream",
     "text": [
      "word2vec_pearson_correlation: 0.772062, p-value: 0.000000\n"
     ]
    }
   ],
   "source": [
    "human_score, word2vec_cosine_similarity_score, word2vec_cosine_distance_score = get_scores(rg65_word2vec)\n",
    "word2vec_pearson_correlation = pearsonr(word2vec_cosine_similarity_score, human_score)\n",
    "print(\"word2vec_pearson_correlation: %f, p-value: %f\" % word2vec_pearson_correlation)"
   ]
  },
  {
   "cell_type": "markdown",
   "metadata": {},
   "source": [
    "### From Earlier Exercise:\n",
    "\n",
    "M1_pearson_correlation: 0.339464 <br>\n",
    "M1_plus_pearson_correlation: 0.253198 <br>\n",
    "M2_10_pearson_correlation: 0.148397 <br>\n",
    "M2_100_pearson_correlation: 0.284026 <br>\n",
    "M2_300_pearson_correlation: 0.275311 <br>\n",
    "\n",
    "### Therefore, the pearson correlation between word2vec-based and human-based similarity is higher than those from LSA and word-context vectors from analyses in the earlier exercise. This indicates word2vec-based word vector has better performance.\n",
    "<br>\n",
    "<br>"
   ]
  },
  {
   "cell_type": "markdown",
   "metadata": {},
   "source": [
    "## Step 4"
   ]
  },
  {
   "cell_type": "code",
   "execution_count": 7,
   "metadata": {},
   "outputs": [],
   "source": [
    "SEMANTIC_ANALOGY_TEST_NAMES = {\n",
    "    \"capital-common-countries\",\n",
    "    \"capital-world\",\n",
    "    \"currency\",\n",
    "    \"city-in-state\",\n",
    "    \"family\",\n",
    "    \n",
    "}\n",
    "\n",
    "SYNTACTIC_ANALOGY_TEST_NAMES = {\n",
    "    \"gram1-adjective-to-adverb\",\n",
    "    \"gram2-opposite\",\n",
    "    \"gram3-comparative\",\n",
    "    \"gram4-superlative\",\n",
    "    \"gram5-present-participle\",\n",
    "    \"gram6-nationality-adjective\",\n",
    "    \"gram7-past-tense\",\n",
    "    \"gram8-plural\",\n",
    "    \"gram9-plural-verbs\",\n",
    "}\n",
    "\n",
    "\n",
    "def prepare_analogy_test(lsa_word_set, word2vec_word_set):\n",
    "    semantic_analogy_test = []\n",
    "    syntactic_analogy_test = []\n",
    "    \n",
    "    analogy_test = None\n",
    "    with open(\"analogy_test_data.txt\") as f:\n",
    "        content = f.readlines()\n",
    "        for line in content:\n",
    "            test_data = line.split()\n",
    "            if \":\" == test_data[0]:\n",
    "                analogy_test = semantic_analogy_test if test_data[1] in SEMANTIC_ANALOGY_TEST_NAMES else syntactic_analogy_test\n",
    "                analogy_test.append(line)\n",
    "            else:\n",
    "                is_included_in_lsa = all(word in lsa_word_set for word in test_data)\n",
    "                is_included_in_word2vec = all(word in word2vec_word_set for word in test_data)\n",
    "                if is_included_in_lsa and is_included_in_word2vec:\n",
    "                    analogy_test.append(line)\n",
    "    \n",
    "    with open(\"semantic_analogy_test.txt\", \"w\") as f:\n",
    "        f.write(\"\".join(semantic_analogy_test))\n",
    "    with open(\"syntactic_analogy_test.txt\", \"w\") as f:\n",
    "        f.write(\"\".join(syntactic_analogy_test))\n",
    "\n",
    "\n",
    "def get_lsa_dim300_word_dict():\n",
    "    with open(\"lsa_300dim_vec.json\") as json_file:\n",
    "        data = json.load(json_file)\n",
    "#     rg65_lsa_dim300_word_vec = {word:data[word] for word in RG65}\n",
    "    return data\n"
   ]
  },
  {
   "cell_type": "code",
   "execution_count": 8,
   "metadata": {},
   "outputs": [],
   "source": [
    "lsa_dim300_word_dict = get_lsa_dim300_word_dict()\n",
    "lsa_word_set = set(lsa_dim300_word_dict.keys())\n",
    "word2vec_word_set = set(word2vec_model.vocab.keys())\n",
    "prepare_analogy_test(lsa_word_set, word2vec_word_set)"
   ]
  },
  {
   "cell_type": "code",
   "execution_count": 9,
   "metadata": {},
   "outputs": [
    {
     "name": "stdout",
     "output_type": "stream",
     "text": [
      "semantic analogy accuracy of word2vec: 0.913580\n",
      "syntactic analogy accuracy of word2vec: 0.602273\n"
     ]
    }
   ],
   "source": [
    "word2vec_semantic_analogy_scores = word2vec_model.evaluate_word_analogies('semantic_analogy_test.txt')\n",
    "print(\"semantic analogy accuracy of word2vec: %f\" % word2vec_semantic_analogy_scores[0])\n",
    "word2vec_syntactic_analogy_scores = word2vec_model.evaluate_word_analogies('syntactic_analogy_test.txt')\n",
    "print(\"syntactic analogy accuracy of word2vec: %f\" % word2vec_syntactic_analogy_scores[0])"
   ]
  },
  {
   "cell_type": "code",
   "execution_count": 10,
   "metadata": {},
   "outputs": [
    {
     "name": "stdout",
     "output_type": "stream",
     "text": [
      "semantic analogy accuracy of lsa: 0.135802\n",
      "syntactic analogy accuracy of lsa: 0.080303\n"
     ]
    }
   ],
   "source": [
    "lsa_model = KeyedVectors(vector_size=300)\n",
    "lsa_model.add(entities=list(lsa_dim300_word_dict.keys()), weights=np.array(list(lsa_dim300_word_dict.values())))\n",
    "\n",
    "lsa_semantic_analogy_scores = lsa_model.evaluate_word_analogies('semantic_analogy_test.txt')\n",
    "print(\"semantic analogy accuracy of lsa: %f\" % lsa_semantic_analogy_scores[0])\n",
    "lsa_syntactic_analogy_scores = lsa_model.evaluate_word_analogies('syntactic_analogy_test.txt')\n",
    "print(\"syntactic analogy accuracy of lsa: %f\" % lsa_syntactic_analogy_scores[0])"
   ]
  },
  {
   "cell_type": "markdown",
   "metadata": {},
   "source": [
    "### Conclusion: word2vec based embedding has higher accuracy than the LSA based embedding on both semantic analogy and syntactic analogy test. This indicates word2vec vector has better performance than LSA vector."
   ]
  },
  {
   "cell_type": "markdown",
   "metadata": {},
   "source": [
    "## Step 5"
   ]
  },
  {
   "cell_type": "markdown",
   "metadata": {},
   "source": [
    "From the paper [Efficient Estimation of Word Representations in Vector Space](https://arxiv.org/pdf/1301.3781.pdf), we see larger training data and larger embedding vector size can both increase the accuracy of semantic/syntactic word relationship test. <br>\n",
    "\n",
    "Therefore, in our case, there are two approaches to improve the existing set of vector-based models in capturing word similarities. <br>\n",
    "(1) When training the word embedding vector, we can increase the training data size to 600 billion words from 100 billion words. Because larger training data provides more word usage context and word relations for the model to learn, the model can generate higher quality embeddings, which increase the performance in word analogy test. <br>\n",
    "(2) When training the word embedding vector, we can also increase the dimension of the embedding vector to 600 from 300. Larger dimension gives word vector more space to store the semantic/syntactic information about the word, which can increase the performance in word analogy test.\n",
    "\n",
    "However, increasing the size of training dataset and embedding vector can both introduce more computational cost. Larger embedding vector also consumes more memory and might have low performance when there is no enough training data."
   ]
  },
  {
   "cell_type": "markdown",
   "metadata": {},
   "source": [
    "# 2 Diachronic word embedding"
   ]
  },
  {
   "cell_type": "markdown",
   "metadata": {},
   "source": [
    "## Step 1"
   ]
  },
  {
   "cell_type": "code",
   "execution_count": 11,
   "metadata": {},
   "outputs": [],
   "source": [
    "import pickle\n",
    "\n",
    "def load_part2_data():\n",
    "    with open(\"part2_data/data.pkl\", 'rb') as f:\n",
    "        return pickle.load(f)"
   ]
  },
  {
   "cell_type": "code",
   "execution_count": 12,
   "metadata": {},
   "outputs": [],
   "source": [
    "part2_data = load_part2_data()\n",
    "# part2_data['d']"
   ]
  },
  {
   "cell_type": "markdown",
   "metadata": {},
   "source": [
    "## Step 2"
   ]
  },
  {
   "cell_type": "markdown",
   "metadata": {},
   "source": [
    "Three different methods for measuring degree of semantic change: <br>\n",
    "(1) [Euclidean Distance](https://docs.scipy.org/doc/scipy/reference/generated/scipy.spatial.distance.euclidean.html#scipy.spatial.distance.euclidean)  <br>\n",
    "(2) [Cosine Distance](https://docs.scipy.org/doc/scipy/reference/generated/scipy.spatial.distance.cosine.html#scipy.spatial.distance.cosine)  <br>\n",
    "(3) [Correlation Distance](https://docs.scipy.org/doc/scipy/reference/generated/scipy.spatial.distance.correlation.html#scipy.spatial.distance.correlation) <br>\n",
    "\n",
    "Procedure: <br>\n",
    "For each word, we compute the distance between the word embedding vector at the first and last time point. Larger distance means higher degree of semantic change."
   ]
  },
  {
   "cell_type": "code",
   "execution_count": 13,
   "metadata": {},
   "outputs": [],
   "source": [
    "from scipy.spatial.distance import euclidean, cosine, correlation\n",
    "\n",
    "def compute_total_distance_change(distance_measurer, data):\n",
    "    num_words = len(data)\n",
    "    num_time_points = len(data[0])\n",
    "    total_distance_diff = np.empty(num_words)\n",
    "    \n",
    "    for i in range(num_words):\n",
    "        total_distance_diff[i] = distance_measurer(data[i][0], data[i][-1])\n",
    "    \n",
    "    total_distance_diff = np.nan_to_num(total_distance_diff)\n",
    "    return total_distance_diff\n",
    "\n",
    "def get_most_and_least_changing_word_index(distance_diff, topK=20):\n",
    "    least_to_most_changing_word_index = distance_diff.argsort()\n",
    "    least_changing_word_index = least_to_most_changing_word_index[:topK]\n",
    "    most_changing_word_index = least_to_most_changing_word_index[-topK:]\n",
    "    return least_changing_word_index, most_changing_word_index\n"
   ]
  },
  {
   "cell_type": "code",
   "execution_count": 14,
   "metadata": {},
   "outputs": [],
   "source": [
    "euclidean_distance_change = compute_total_distance_change(euclidean, part2_data['E'])\n",
    "euclidean_least_changing_word_idx_step2, euclidean_most_changing_word_idx_step2 = get_most_and_least_changing_word_index(euclidean_distance_change, topK=20)\n",
    "\n",
    "cosine_distance_change = compute_total_distance_change(cosine, part2_data['E'])\n",
    "cosine_least_changing_word_idx_step2, cosine_most_changing_word_idx_step2 = get_most_and_least_changing_word_index(cosine_distance_change, topK=20)\n",
    "\n",
    "correlation_distance_change = compute_total_distance_change(correlation, part2_data['E'])\n",
    "correlation_least_changing_word_idx_step2, correlation_most_changing_word_idx_step2 = get_most_and_least_changing_word_index(correlation_distance_change, topK=20)"
   ]
  },
  {
   "cell_type": "code",
   "execution_count": 15,
   "metadata": {},
   "outputs": [
    {
     "name": "stdout",
     "output_type": "stream",
     "text": [
      "least changing word by using euclidean distance:\n",
      "  ['april' 'june' 'november' 'february' 'years' 'october' 'increase'\n",
      " 'january' 'century' 'months' 'daughter' 'december' 'god' 'september'\n",
      " 'feet' 'week' 'evening' 'door' 'payment' 'miles']\n",
      "most changing word by using euclidean distance:\n",
      "  ['therapy' 'challenge' 'stanford' 'assessment' 'film' 'shift' 'berkeley'\n",
      " 'patterns' 'perspective' 'impact' 'media' 'shri' 'van' 'approach' 'goals'\n",
      " 'sector' 'radio' 'computer' 'objectives' 'programs'] \n",
      "\n",
      "least changing word by using cosine distance:\n",
      "  ['mcgraw' 'skills' 'ml' 'techniques' 'april' 'june' 'november' 'february'\n",
      " 'years' 'october' 'increase' 'january' 'century' 'months' 'daughter'\n",
      " 'december' 'god' 'september' 'feet' 'week']\n",
      "most changing word by using cosine distance:\n",
      "  ['therapy' 'challenge' 'stanford' 'assessment' 'film' 'shift' 'berkeley'\n",
      " 'patterns' 'perspective' 'impact' 'media' 'shri' 'van' 'approach' 'goals'\n",
      " 'sector' 'radio' 'computer' 'objectives' 'programs'] \n",
      "\n",
      "least changing word by using correlation distance:\n",
      "  ['techniques' 'skills' 'ml' 'mcgraw' 'april' 'june' 'november' 'years'\n",
      " 'february' 'october' 'increase' 'january' 'century' 'months' 'daughter'\n",
      " 'december' 'god' 'september' 'feet' 'door']\n",
      "most changing word by using correlation distance:\n",
      "  ['haven' 'assessment' 'challenge' 'stanford' 'film' 'shift' 'patterns'\n",
      " 'berkeley' 'perspective' 'impact' 'media' 'shri' 'van' 'approach' 'goals'\n",
      " 'sector' 'radio' 'computer' 'objectives' 'programs'] \n",
      "\n"
     ]
    }
   ],
   "source": [
    "word_list = np.array(part2_data['w'])\n",
    "print(\"least changing word by using euclidean distance:\\n \", word_list[euclidean_least_changing_word_idx_step2])  \n",
    "print(\"most changing word by using euclidean distance:\\n \", word_list[euclidean_most_changing_word_idx_step2], \"\\n\")  \n",
    "print(\"least changing word by using cosine distance:\\n \", word_list[cosine_least_changing_word_idx_step2])  \n",
    "print(\"most changing word by using cosine distance:\\n \", word_list[cosine_most_changing_word_idx_step2], \"\\n\")  \n",
    "print(\"least changing word by using correlation distance:\\n \", word_list[correlation_least_changing_word_idx_step2])  \n",
    "print(\"most changing word by using correlation distance:\\n \", word_list[correlation_most_changing_word_idx_step2], \"\\n\")  "
   ]
  },
  {
   "cell_type": "code",
   "execution_count": 16,
   "metadata": {},
   "outputs": [
    {
     "name": "stdout",
     "output_type": "stream",
     "text": [
      "[[1.         0.96494804 0.96468057]\n",
      " [0.96494804 1.         0.9996484 ]\n",
      " [0.96468057 0.9996484  1.        ]]\n",
      "[2.92962861 2.96459644 2.96432897]\n"
     ]
    }
   ],
   "source": [
    "changing_scores = [euclidean_distance_change, cosine_distance_change, correlation_distance_change]\n",
    "pearsonr_relation_summary = np.empty((len(changing_scores), len(changing_scores)))\n",
    "for i, changing_score_X in enumerate(changing_scores):\n",
    "    for j, changing_score_Y in enumerate(changing_scores):\n",
    "        pearsonr_relation_summary[i][j] = pearsonr(changing_score_X, changing_score_Y)[0]\n",
    "    \n",
    "print(pearsonr_relation_summary)\n",
    "print(pearsonr_relation_summary.sum(axis=1))"
   ]
  },
  {
   "cell_type": "markdown",
   "metadata": {},
   "source": [
    "### Therefore, the cosine distance based approach has the most positive correlation with other approaches, and the euclidean distance based approach has the least positive correlation with other approaches."
   ]
  },
  {
   "cell_type": "markdown",
   "metadata": {},
   "source": [
    "## Step 3"
   ]
  },
  {
   "cell_type": "markdown",
   "metadata": {},
   "source": [
    "Proposed Procedure: <br>\n",
    "We let the word embedding vector at the first time point as the base vector. We then compute the distance between this base vector and the vectors at later time points. This gives us a distance-vector where i th point is the distance between word embedding in i th time point and first time point. Finally, we compute the standard deviation of all distance values, and higher standard deviation indicates a more changing word. <br>\n",
    "<br>\n",
    "Justification: <br>\n",
    "The step 2 used the word embedding distance between the first and last time point to represent the degree of semantic change, which can cause false positive. For example, if the embedding vector of a word changes with a small but constant speed over a long period, the word embedding distance between the first and last time point will be large, but the word semantics might not change. Moreover, if a word changes its meaning at the middle, then back to its original meaning at the end, the method in step 2 is unable to detect the semantic change. The proposed procedure in step 3 is used to address those issues since it takes all time points into account, instead of only the first and last time point. In addition, the standard deviation gives higher score to a sudden change of embedding vector. A sudden distance change of the embedding vector is likely to be a semantic change.\n",
    "\n",
    "\n"
   ]
  },
  {
   "cell_type": "code",
   "execution_count": 17,
   "metadata": {},
   "outputs": [],
   "source": [
    "def compute_change_over_time(distance_measurer, data):\n",
    "    num_words = len(data)\n",
    "    num_time_points = len(data[0])\n",
    "    distance_vector = np.empty((num_words, num_time_points))\n",
    "    \n",
    "    for i in range(num_words):\n",
    "        base_vector = data[i][0]\n",
    "        for j in range(num_time_points):\n",
    "            distance = distance_measurer(base_vector, data[i][j])\n",
    "            distance_vector[i][j] = distance\n",
    "    \n",
    "    distance_vector = np.nan_to_num(distance_vector)\n",
    "    std_across_time = distance_vector.std(axis=1)\n",
    "    return std_across_time, distance_vector\n"
   ]
  },
  {
   "cell_type": "code",
   "execution_count": 18,
   "metadata": {},
   "outputs": [],
   "source": [
    "euclidean_std_score, euclidean_distance_vector = compute_change_over_time(euclidean, part2_data['E'])\n",
    "cosine_std_score, cosine_distance_vector = compute_change_over_time(cosine, part2_data['E'])\n",
    "correlation_std_score, correlation_distance_vector = compute_change_over_time(correlation, part2_data['E'])"
   ]
  },
  {
   "cell_type": "code",
   "execution_count": 19,
   "metadata": {},
   "outputs": [
    {
     "name": "stdout",
     "output_type": "stream",
     "text": [
      "least changing word by using euclidean distance:\n",
      "  ['april' 'october' 'november' 'january' 'february' 'miles' 'september'\n",
      " 'increase' 'months' 'june' 'july' 'years' 'feet' 'december' 'trees'\n",
      " 'church' 'century' 'vessels' 'daughter' 'husband']\n",
      "most changing word by using euclidean distance:\n",
      "  ['perspective' 'input' 'shift' 'levels' 'therapy' 'berkeley' 'impact'\n",
      " 'patterns' 'approach' 'shri' 'goals' 'van' 'sector' 'radio' 'techniques'\n",
      " 'skills' 'ml' 'programs' 'computer' 'objectives'] \n",
      "\n",
      "least changing word by using cosine distance:\n",
      "  ['mcgraw' 'ml' 'techniques' 'skills' 'april' 'october' 'november'\n",
      " 'february' 'january' 'increase' 'months' 'miles' 'june' 'september'\n",
      " 'july' 'years' 'december' 'century' 'husband' 'church']\n",
      "most changing word by using cosine distance:\n",
      "  ['pattern' 'media' 'projects' 'therapy' 'shift' 'assessment' 'levels'\n",
      " 'berkeley' 'perspective' 'patterns' 'goals' 'impact' 'sector' 'approach'\n",
      " 'van' 'radio' 'programs' 'objectives' 'shri' 'computer'] \n",
      "\n",
      "least changing word by using correlation distance:\n",
      "  ['skills' 'techniques' 'mcgraw' 'ml' 'april' 'october' 'november'\n",
      " 'february' 'january' 'months' 'increase' 'june' 'miles' 'september'\n",
      " 'years' 'july' 'december' 'century' 'husband' 'church']\n",
      "most changing word by using correlation distance:\n",
      "  ['pattern' 'therapy' 'projects' 'media' 'assessment' 'shift' 'levels'\n",
      " 'perspective' 'berkeley' 'patterns' 'goals' 'impact' 'sector' 'van'\n",
      " 'approach' 'radio' 'programs' 'objectives' 'shri' 'computer'] \n",
      "\n"
     ]
    }
   ],
   "source": [
    "euclidean_least_changing_word_idx_step3, euclidean_most_changing_word_idx_step3 = get_most_and_least_changing_word_index(euclidean_std_score, topK=20)\n",
    "cosine_least_changing_word_idx_step3, cosine_most_changing_word_idx_step3 = get_most_and_least_changing_word_index(cosine_std_score, topK=20)\n",
    "correlation_least_changing_word_idx_step3, correlation_most_changing_word_idx_step3 = get_most_and_least_changing_word_index(correlation_std_score, topK=20)\n",
    "\n",
    "print(\"least changing word by using euclidean distance:\\n \", word_list[euclidean_least_changing_word_idx_step3])  \n",
    "print(\"most changing word by using euclidean distance:\\n \", word_list[euclidean_most_changing_word_idx_step3], \"\\n\")  \n",
    "print(\"least changing word by using cosine distance:\\n \", word_list[cosine_least_changing_word_idx_step3])  \n",
    "print(\"most changing word by using cosine distance:\\n \", word_list[cosine_most_changing_word_idx_step3], \"\\n\")  \n",
    "print(\"least changing word by using correlation distance:\\n \", word_list[correlation_least_changing_word_idx_step3])  \n",
    "print(\"most changing word by using correlation distance:\\n \", word_list[correlation_most_changing_word_idx_step3], \"\\n\")  "
   ]
  },
  {
   "cell_type": "code",
   "execution_count": 20,
   "metadata": {},
   "outputs": [
    {
     "name": "stdout",
     "output_type": "stream",
     "text": [
      "pearsonr relation for euclidean distance: 0.932139\n",
      "pearsonr relation for cosine distance: 0.947249\n",
      "pearsonr relation for correlation distance: 0.947096\n"
     ]
    }
   ],
   "source": [
    "print(\"pearsonr relation for euclidean distance: %f\" % pearsonr(euclidean_std_score, euclidean_distance_change)[0])\n",
    "print(\"pearsonr relation for cosine distance: %f\" % pearsonr(cosine_std_score, cosine_distance_change)[0])\n",
    "print(\"pearsonr relation for correlation distance: %f\" % pearsonr(correlation_std_score, correlation_distance_change)[0])"
   ]
  },
  {
   "cell_type": "markdown",
   "metadata": {},
   "source": [
    "### Therefore, the cosine distance based measurement is the most accurate."
   ]
  },
  {
   "cell_type": "markdown",
   "metadata": {},
   "source": [
    "## Step 4"
   ]
  },
  {
   "cell_type": "markdown",
   "metadata": {},
   "source": [
    "__Setup:__ <br>\n",
    "We reuse the setup from step 3: \"We let the word embedding vector at the first time point as the base vector. We then compute the distance between this base vector and the vectors at later time points. This gives us a distance-vector where the value of i th point is the distance between word embedding in i th time point and first time point.\"<br>\n",
    "\n",
    "First, in order to have a change point, the word should have large enough degree of semantic change. It means if a word has a change point, its standard deviation score (the metric from step 3) should be larger than a threshold. Secondly, as we only have 10 points, I assume there can be at most 1 change point. Since we set the first point as the base point, the first point cannot be the change point. In addition, all the values in our distance-vector are computed with respect to the first point, so the value of the first point is always 0, and therefore, the value difference between the first point and second point is always relatively large. Thus, unless the difference between the first point and the second point is larger than a threshold, I will not consider the second point as a change point. <br>\n",
    "\n",
    "__High level description for the proposed method:__ <br>\n",
    "The intuition is that the change point usually causes a sudden distance change in the word embedding vector (with respect to the original vector). That means, if the i th time point is a change point, in our distance-vector, the value difference between i th and i-1 th point should be larger than the value difference between other adjacent time points. So our goal is to find a point (from our distance-vector) that has the largest value difference with the preceding point. Moreover, the value difference should be large enough so that the point can be considered as a change point. <br> \n",
    "(Side note: I didn't use mean shift, mentioned in [Statistically Significant Detection of Linguistic Change](https://dl.acm.org/doi/pdf/10.1145/2736277.2741627?download=true), because we only have 10 points and didn't do normalization across all words.) <br>\n",
    "\n",
    "__See the below code for detailed implementation:__ <br>"
   ]
  },
  {
   "cell_type": "code",
   "execution_count": 21,
   "metadata": {},
   "outputs": [],
   "source": [
    "DIFF_THRESHOLD = 0.07\n",
    "SECOND_POINT_THRESHOLD_SCALE = 50\n",
    "\n",
    "def change_point_detection(top_varying_word_points, std_score_threshold):\n",
    "    change_points = np.empty(len(top_varying_word_points), dtype=int)\n",
    "    \n",
    "    for idx, word_points in enumerate(top_varying_word_points):\n",
    "        if (np.std(word_points) < std_score_threshold):\n",
    "            change_points[idx] = -1\n",
    "            continue\n",
    "        \n",
    "        change_point = -1\n",
    "        largest_diff = DIFF_THRESHOLD\n",
    "        \n",
    "        for i in range(2, 10):\n",
    "            diff = np.abs(word_points[i] - word_points[i-1])\n",
    "            if diff > largest_diff:\n",
    "                change_point = i\n",
    "                largest_diff = diff\n",
    "        \n",
    "        if np.abs(word_points[1] - word_points[0]) > largest_diff * SECOND_POINT_THRESHOLD_SCALE:\n",
    "            change_point = 1\n",
    "        \n",
    "        change_points[idx] = change_point\n",
    "        \n",
    "    return change_points"
   ]
  },
  {
   "cell_type": "code",
   "execution_count": 22,
   "metadata": {},
   "outputs": [],
   "source": [
    "std_score_threshold = np.average(cosine_std_score)\n",
    "step2_top_words = word_list[cosine_most_changing_word_idx_step2[:3]]    \n",
    "step2_top_word_changing_value = cosine_distance_vector[cosine_most_changing_word_idx_step2[:3]]   \n",
    "change_points_from_step2 = change_point_detection(step2_top_word_changing_value, std_score_threshold)\n",
    "step3_top_words = word_list[cosine_most_changing_word_idx_step3[:3]]    \n",
    "step3_top_word_changing_value = cosine_distance_vector[cosine_most_changing_word_idx_step3[:3]]   \n",
    "change_points_from_step3 = change_point_detection(step3_top_word_changing_value, std_score_threshold)"
   ]
  },
  {
   "cell_type": "code",
   "execution_count": 23,
   "metadata": {},
   "outputs": [
    {
     "name": "stdout",
     "output_type": "stream",
     "text": [
      "top 3 changing words from step 2:  ['therapy' 'challenge' 'stanford']\n",
      "top 3 changing words from step 3:  ['pattern' 'media' 'projects']\n"
     ]
    }
   ],
   "source": [
    "print(\"top 3 changing words from step 2: \", step2_top_words)\n",
    "print(\"top 3 changing words from step 3: \", step3_top_words)"
   ]
  },
  {
   "cell_type": "code",
   "execution_count": 24,
   "metadata": {},
   "outputs": [],
   "source": [
    "import matplotlib.pyplot as plt\n",
    "\n",
    "def draw(word, distance_across_time, change_point_idx):\n",
    "    time_stamps = [str(10 * i + 1900) for i in range(10)]\n",
    "\n",
    "    plt.plot(time_stamps, distance_across_time)\n",
    "    plt.xlabel(\"Decades\")\n",
    "    plt.ylabel(\"Distance w.r.t. First Point\")\n",
    "    plt.title(\"Distance Across Time for '%s'\" % word)\n",
    "    plt.grid(True, axis='y')\n",
    "\n",
    "    if change_point_idx != -1:\n",
    "        change_point_value = distance_across_time[change_point_idx]\n",
    "        plt.plot([change_point_idx], [change_point_value], marker='o', markersize=7, color=\"red\")\n",
    "    else:\n",
    "        plt.text(0.5, 0.75, \"No Change Point\", fontsize=12, color=\"red\")\n",
    "\n",
    "    plt.show()\n",
    "    "
   ]
  },
  {
   "cell_type": "code",
   "execution_count": 25,
   "metadata": {},
   "outputs": [
    {
     "data": {
      "image/png": "[encoded data removed]",
      "text/plain": [
       "<Figure size 432x288 with 1 Axes>"
      ]
     },
     "metadata": {
      "needs_background": "light"
     },
     "output_type": "display_data"
    },
    {
     "data": {
      "image/png": "[encoded data removed]",
      "text/plain": [
       "<Figure size 432x288 with 1 Axes>"
      ]
     },
     "metadata": {
      "needs_background": "light"
     },
     "output_type": "display_data"
    },
    {
     "data": {
      "image/png": "[encoded data removed]",
      "text/plain": [
       "<Figure size 432x288 with 1 Axes>"
      ]
     },
     "metadata": {
      "needs_background": "light"
     },
     "output_type": "display_data"
    },
    {
     "data": {
      "image/png": "[encoded data removed]",
      "text/plain": [
       "<Figure size 432x288 with 1 Axes>"
      ]
     },
     "metadata": {
      "needs_background": "light"
     },
     "output_type": "display_data"
    },
    {
     "data": {
      "image/png": "[encoded data removed]",
      "text/plain": [
       "<Figure size 432x288 with 1 Axes>"
      ]
     },
     "metadata": {
      "needs_background": "light"
     },
     "output_type": "display_data"
    },
    {
     "data": {
      "image/png": "[encoded data removed]",
      "text/plain": [
       "<Figure size 432x288 with 1 Axes>"
      ]
     },
     "metadata": {
      "needs_background": "light"
     },
     "output_type": "display_data"
    }
   ],
   "source": [
    "top_words = [*step2_top_words, *step3_top_words]\n",
    "top_word_changing_value = [*step2_top_word_changing_value, *step3_top_word_changing_value]\n",
    "change_points = [*change_points_from_step2, *change_points_from_step3]\n",
    "for i in range(len(top_words)):\n",
    "    word = top_words[i]\n",
    "    word_changing_value = top_word_changing_value[i]\n",
    "    chang_point = change_points[i]\n",
    "    draw(word, word_changing_value, chang_point) "
   ]
  },
  {
   "cell_type": "code",
   "execution_count": null,
   "metadata": {},
   "outputs": [],
   "source": []
  },
  {
   "cell_type": "code",
   "execution_count": null,
   "metadata": {},
   "outputs": [],
   "source": []
  }
 ],
 "metadata": {
  "kernelspec": {
   "display_name": "Python 3",
   "language": "python",
   "name": "python3"
  },
  "language_info": {
   "codemirror_mode": {
    "name": "ipython",
    "version": 3
   },
   "file_extension": ".py",
   "mimetype": "text/x-python",
   "name": "python",
   "nbconvert_exporter": "python",
   "pygments_lexer": "ipython3",
   "version": "3.6.9"
  },
  "pycharm": {
   "stem_cell": {
    "cell_type": "raw",
    "metadata": {
     "collapsed": false
    },
    "source": []
   }
  }
 },
 "nbformat": 4,
 "nbformat_minor": 4
}
